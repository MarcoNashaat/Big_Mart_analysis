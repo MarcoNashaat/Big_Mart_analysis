{
 "cells": [
  {
   "cell_type": "markdown",
   "id": "d23003b3",
   "metadata": {},
   "source": [
    "# Big Mart Sales Data Analysis."
   ]
  },
  {
   "cell_type": "markdown",
   "id": "f0406885",
   "metadata": {},
   "source": [
    "## Introduction:\n",
    "This is a collaborative project as part of the FWD scholarship and Udacity online platform in the Advanced Data analysis track. The dataset is about products and some related attributes, and the most important one being the item sales, which will be the main point of analysis. The questions answered are:\n",
    "<ul>\n",
    "    <li>Does the locality of the outlet affect sales?\n",
    "    <li>Do different items have different sales?\n",
    "    <li>Does MRP affect sales?"
   ]
  },
  {
   "cell_type": "code",
   "execution_count": 1,
   "id": "287e34dd",
   "metadata": {},
   "outputs": [],
   "source": [
    "#importing necessary libraries.\n",
    "import pandas as pd\n",
    "import numpy as np\n",
    "import matplotlib.pyplot as plt\n",
    "%matplotlib inline"
   ]
  },
  {
   "cell_type": "code",
   "execution_count": 2,
   "id": "195c723b",
   "metadata": {},
   "outputs": [
    {
     "data": {
      "text/html": [
       "<div>\n",
       "<style scoped>\n",
       "    .dataframe tbody tr th:only-of-type {\n",
       "        vertical-align: middle;\n",
       "    }\n",
       "\n",
       "    .dataframe tbody tr th {\n",
       "        vertical-align: top;\n",
       "    }\n",
       "\n",
       "    .dataframe thead th {\n",
       "        text-align: right;\n",
       "    }\n",
       "</style>\n",
       "<table border=\"1\" class=\"dataframe\">\n",
       "  <thead>\n",
       "    <tr style=\"text-align: right;\">\n",
       "      <th></th>\n",
       "      <th>Item_Identifier</th>\n",
       "      <th>Item_Weight</th>\n",
       "      <th>Item_Fat_Content</th>\n",
       "      <th>Item_Visibility</th>\n",
       "      <th>Item_Type</th>\n",
       "      <th>Item_MRP</th>\n",
       "      <th>Outlet_Identifier</th>\n",
       "      <th>Outlet_Establishment_Year</th>\n",
       "      <th>Outlet_Size</th>\n",
       "      <th>Outlet_Location_Type</th>\n",
       "      <th>Outlet_Type</th>\n",
       "      <th>Item_Outlet_Sales</th>\n",
       "    </tr>\n",
       "  </thead>\n",
       "  <tbody>\n",
       "    <tr>\n",
       "      <th>0</th>\n",
       "      <td>FDA15</td>\n",
       "      <td>9.30</td>\n",
       "      <td>Low Fat</td>\n",
       "      <td>0.016047</td>\n",
       "      <td>Dairy</td>\n",
       "      <td>249.8092</td>\n",
       "      <td>OUT049</td>\n",
       "      <td>1999</td>\n",
       "      <td>Medium</td>\n",
       "      <td>Tier 1</td>\n",
       "      <td>Supermarket Type1</td>\n",
       "      <td>3735.1380</td>\n",
       "    </tr>\n",
       "    <tr>\n",
       "      <th>1</th>\n",
       "      <td>DRC01</td>\n",
       "      <td>5.92</td>\n",
       "      <td>Regular</td>\n",
       "      <td>0.019278</td>\n",
       "      <td>Soft Drinks</td>\n",
       "      <td>48.2692</td>\n",
       "      <td>OUT018</td>\n",
       "      <td>2009</td>\n",
       "      <td>Medium</td>\n",
       "      <td>Tier 3</td>\n",
       "      <td>Supermarket Type2</td>\n",
       "      <td>443.4228</td>\n",
       "    </tr>\n",
       "    <tr>\n",
       "      <th>2</th>\n",
       "      <td>FDN15</td>\n",
       "      <td>17.50</td>\n",
       "      <td>Low Fat</td>\n",
       "      <td>0.016760</td>\n",
       "      <td>Meat</td>\n",
       "      <td>141.6180</td>\n",
       "      <td>OUT049</td>\n",
       "      <td>1999</td>\n",
       "      <td>Medium</td>\n",
       "      <td>Tier 1</td>\n",
       "      <td>Supermarket Type1</td>\n",
       "      <td>2097.2700</td>\n",
       "    </tr>\n",
       "    <tr>\n",
       "      <th>3</th>\n",
       "      <td>FDX07</td>\n",
       "      <td>19.20</td>\n",
       "      <td>Regular</td>\n",
       "      <td>0.000000</td>\n",
       "      <td>Fruits and Vegetables</td>\n",
       "      <td>182.0950</td>\n",
       "      <td>OUT010</td>\n",
       "      <td>1998</td>\n",
       "      <td>NaN</td>\n",
       "      <td>Tier 3</td>\n",
       "      <td>Grocery Store</td>\n",
       "      <td>732.3800</td>\n",
       "    </tr>\n",
       "    <tr>\n",
       "      <th>4</th>\n",
       "      <td>NCD19</td>\n",
       "      <td>8.93</td>\n",
       "      <td>Low Fat</td>\n",
       "      <td>0.000000</td>\n",
       "      <td>Household</td>\n",
       "      <td>53.8614</td>\n",
       "      <td>OUT013</td>\n",
       "      <td>1987</td>\n",
       "      <td>High</td>\n",
       "      <td>Tier 3</td>\n",
       "      <td>Supermarket Type1</td>\n",
       "      <td>994.7052</td>\n",
       "    </tr>\n",
       "  </tbody>\n",
       "</table>\n",
       "</div>"
      ],
      "text/plain": [
       "  Item_Identifier  Item_Weight Item_Fat_Content  Item_Visibility  \\\n",
       "0           FDA15         9.30          Low Fat         0.016047   \n",
       "1           DRC01         5.92          Regular         0.019278   \n",
       "2           FDN15        17.50          Low Fat         0.016760   \n",
       "3           FDX07        19.20          Regular         0.000000   \n",
       "4           NCD19         8.93          Low Fat         0.000000   \n",
       "\n",
       "               Item_Type  Item_MRP Outlet_Identifier  \\\n",
       "0                  Dairy  249.8092            OUT049   \n",
       "1            Soft Drinks   48.2692            OUT018   \n",
       "2                   Meat  141.6180            OUT049   \n",
       "3  Fruits and Vegetables  182.0950            OUT010   \n",
       "4              Household   53.8614            OUT013   \n",
       "\n",
       "   Outlet_Establishment_Year Outlet_Size Outlet_Location_Type  \\\n",
       "0                       1999      Medium               Tier 1   \n",
       "1                       2009      Medium               Tier 3   \n",
       "2                       1999      Medium               Tier 1   \n",
       "3                       1998         NaN               Tier 3   \n",
       "4                       1987        High               Tier 3   \n",
       "\n",
       "         Outlet_Type  Item_Outlet_Sales  \n",
       "0  Supermarket Type1          3735.1380  \n",
       "1  Supermarket Type2           443.4228  \n",
       "2  Supermarket Type1          2097.2700  \n",
       "3      Grocery Store           732.3800  \n",
       "4  Supermarket Type1           994.7052  "
      ]
     },
     "execution_count": 2,
     "metadata": {},
     "output_type": "execute_result"
    }
   ],
   "source": [
    "#loading the dataset and reading few lines.\n",
    "df = pd.read_csv('train.csv')\n",
    "df.head()"
   ]
  },
  {
   "cell_type": "markdown",
   "id": "ac415d41",
   "metadata": {},
   "source": [
    "#### This will be a documnation for the attributes in the datasets.\n",
    "<ul>\n",
    "<li>item identifier: a series of numerical or alphanumerical digits that are used to identify a specific product.\n",
    "<li>item weight: is the actual weight of the item.\n",
    "<li>item fat content: total fat in the item.\n",
    "<li>item visibility: is the ability for shoppers to discover, identify, and engage with products.\n",
    "<li>item type: define the contents of an item and the information that is stored about an item.\n",
    "<li>item MRP: is a system for calculating the materials and components needed to manufacture a product.\n",
    "<li>outlet identifier: a unique identifier assigned to each service type outlet.\n",
    "<li>outlet establishment year: establishment year of the outlet.\n",
    "<li>outlet size: the size of the outlet.\n",
    "<li>outlet location type: locations of outlets ranked with tier3 being the highest.\n",
    "<li>outlet type: type of the outlet.\n",
    "<li>item outlet sales: the amount of sales for an item in specific outlet."
   ]
  },
  {
   "cell_type": "code",
   "execution_count": 3,
   "id": "27db84f7",
   "metadata": {},
   "outputs": [
    {
     "data": {
      "text/html": [
       "<div>\n",
       "<style scoped>\n",
       "    .dataframe tbody tr th:only-of-type {\n",
       "        vertical-align: middle;\n",
       "    }\n",
       "\n",
       "    .dataframe tbody tr th {\n",
       "        vertical-align: top;\n",
       "    }\n",
       "\n",
       "    .dataframe thead th {\n",
       "        text-align: right;\n",
       "    }\n",
       "</style>\n",
       "<table border=\"1\" class=\"dataframe\">\n",
       "  <thead>\n",
       "    <tr style=\"text-align: right;\">\n",
       "      <th></th>\n",
       "      <th>Item_Weight</th>\n",
       "      <th>Item_Visibility</th>\n",
       "      <th>Item_MRP</th>\n",
       "      <th>Outlet_Establishment_Year</th>\n",
       "      <th>Item_Outlet_Sales</th>\n",
       "    </tr>\n",
       "  </thead>\n",
       "  <tbody>\n",
       "    <tr>\n",
       "      <th>count</th>\n",
       "      <td>7060.000000</td>\n",
       "      <td>8523.000000</td>\n",
       "      <td>8523.000000</td>\n",
       "      <td>8523.000000</td>\n",
       "      <td>8523.000000</td>\n",
       "    </tr>\n",
       "    <tr>\n",
       "      <th>mean</th>\n",
       "      <td>12.857645</td>\n",
       "      <td>0.066132</td>\n",
       "      <td>140.992782</td>\n",
       "      <td>1997.831867</td>\n",
       "      <td>2181.288914</td>\n",
       "    </tr>\n",
       "    <tr>\n",
       "      <th>std</th>\n",
       "      <td>4.643456</td>\n",
       "      <td>0.051598</td>\n",
       "      <td>62.275067</td>\n",
       "      <td>8.371760</td>\n",
       "      <td>1706.499616</td>\n",
       "    </tr>\n",
       "    <tr>\n",
       "      <th>min</th>\n",
       "      <td>4.555000</td>\n",
       "      <td>0.000000</td>\n",
       "      <td>31.290000</td>\n",
       "      <td>1985.000000</td>\n",
       "      <td>33.290000</td>\n",
       "    </tr>\n",
       "    <tr>\n",
       "      <th>25%</th>\n",
       "      <td>8.773750</td>\n",
       "      <td>0.026989</td>\n",
       "      <td>93.826500</td>\n",
       "      <td>1987.000000</td>\n",
       "      <td>834.247400</td>\n",
       "    </tr>\n",
       "    <tr>\n",
       "      <th>50%</th>\n",
       "      <td>12.600000</td>\n",
       "      <td>0.053931</td>\n",
       "      <td>143.012800</td>\n",
       "      <td>1999.000000</td>\n",
       "      <td>1794.331000</td>\n",
       "    </tr>\n",
       "    <tr>\n",
       "      <th>75%</th>\n",
       "      <td>16.850000</td>\n",
       "      <td>0.094585</td>\n",
       "      <td>185.643700</td>\n",
       "      <td>2004.000000</td>\n",
       "      <td>3101.296400</td>\n",
       "    </tr>\n",
       "    <tr>\n",
       "      <th>max</th>\n",
       "      <td>21.350000</td>\n",
       "      <td>0.328391</td>\n",
       "      <td>266.888400</td>\n",
       "      <td>2009.000000</td>\n",
       "      <td>13086.964800</td>\n",
       "    </tr>\n",
       "  </tbody>\n",
       "</table>\n",
       "</div>"
      ],
      "text/plain": [
       "       Item_Weight  Item_Visibility     Item_MRP  Outlet_Establishment_Year  \\\n",
       "count  7060.000000      8523.000000  8523.000000                8523.000000   \n",
       "mean     12.857645         0.066132   140.992782                1997.831867   \n",
       "std       4.643456         0.051598    62.275067                   8.371760   \n",
       "min       4.555000         0.000000    31.290000                1985.000000   \n",
       "25%       8.773750         0.026989    93.826500                1987.000000   \n",
       "50%      12.600000         0.053931   143.012800                1999.000000   \n",
       "75%      16.850000         0.094585   185.643700                2004.000000   \n",
       "max      21.350000         0.328391   266.888400                2009.000000   \n",
       "\n",
       "       Item_Outlet_Sales  \n",
       "count        8523.000000  \n",
       "mean         2181.288914  \n",
       "std          1706.499616  \n",
       "min            33.290000  \n",
       "25%           834.247400  \n",
       "50%          1794.331000  \n",
       "75%          3101.296400  \n",
       "max         13086.964800  "
      ]
     },
     "execution_count": 3,
     "metadata": {},
     "output_type": "execute_result"
    }
   ],
   "source": [
    "#exploring basic information about the dataset.\n",
    "df.describe()"
   ]
  },
  {
   "cell_type": "code",
   "execution_count": 4,
   "id": "be35fe31",
   "metadata": {},
   "outputs": [
    {
     "name": "stdout",
     "output_type": "stream",
     "text": [
      "<class 'pandas.core.frame.DataFrame'>\n",
      "RangeIndex: 8523 entries, 0 to 8522\n",
      "Data columns (total 12 columns):\n",
      " #   Column                     Non-Null Count  Dtype  \n",
      "---  ------                     --------------  -----  \n",
      " 0   Item_Identifier            8523 non-null   object \n",
      " 1   Item_Weight                7060 non-null   float64\n",
      " 2   Item_Fat_Content           8523 non-null   object \n",
      " 3   Item_Visibility            8523 non-null   float64\n",
      " 4   Item_Type                  8523 non-null   object \n",
      " 5   Item_MRP                   8523 non-null   float64\n",
      " 6   Outlet_Identifier          8523 non-null   object \n",
      " 7   Outlet_Establishment_Year  8523 non-null   int64  \n",
      " 8   Outlet_Size                6113 non-null   object \n",
      " 9   Outlet_Location_Type       8523 non-null   object \n",
      " 10  Outlet_Type                8523 non-null   object \n",
      " 11  Item_Outlet_Sales          8523 non-null   float64\n",
      "dtypes: float64(4), int64(1), object(7)\n",
      "memory usage: 799.2+ KB\n"
     ]
    }
   ],
   "source": [
    "df.info()"
   ]
  },
  {
   "cell_type": "markdown",
   "id": "14538fca",
   "metadata": {},
   "source": [
    "#### First, we deal with NAN and duplicated values in the dataset."
   ]
  },
  {
   "cell_type": "code",
   "execution_count": 5,
   "id": "831577b0",
   "metadata": {},
   "outputs": [],
   "source": [
    "#converting columns' names to lowercase for easier access.\n",
    "df.columns = df.columns.str.lower()"
   ]
  },
  {
   "cell_type": "code",
   "execution_count": 6,
   "id": "96941f85",
   "metadata": {},
   "outputs": [],
   "source": [
    "#filling missing values in item weight column\n",
    "#with mean value.\n",
    "df.item_weight.fillna(df.item_weight.mean(),inplace=True);"
   ]
  },
  {
   "cell_type": "code",
   "execution_count": 7,
   "id": "e04d9fdd",
   "metadata": {},
   "outputs": [],
   "source": [
    "#converting outlet size column into \n",
    "#numerical values for easier analysis.\n",
    "df.outlet_size.replace({'High':3,'Medium':2,'Small':1},inplace=True)"
   ]
  },
  {
   "cell_type": "code",
   "execution_count": 8,
   "id": "d017505f",
   "metadata": {},
   "outputs": [],
   "source": [
    "#filling missing values in outlet size column\n",
    "#with mean value.\n",
    "df.outlet_size.fillna(df.outlet_size.mean(),inplace=True);"
   ]
  },
  {
   "cell_type": "code",
   "execution_count": 9,
   "id": "c7c21aaa",
   "metadata": {},
   "outputs": [],
   "source": [
    "#replacing synonyms in item fat content column.\n",
    "df.item_fat_content.replace({'Low Fat':'low','LF':'low','low fat':'low','Regular':'regular','reg':'regular'},inplace=True)"
   ]
  },
  {
   "cell_type": "code",
   "execution_count": 10,
   "id": "41db92b2",
   "metadata": {},
   "outputs": [
    {
     "data": {
      "text/plain": [
       "0"
      ]
     },
     "execution_count": 10,
     "metadata": {},
     "output_type": "execute_result"
    }
   ],
   "source": [
    "#checking for duplicated values.\n",
    "df.duplicated().sum()"
   ]
  },
  {
   "cell_type": "code",
   "execution_count": 11,
   "id": "7d8853ad",
   "metadata": {},
   "outputs": [],
   "source": [
    "#saving the modified dataframe\n",
    "#into a csv file.\n",
    "df.to_csv('train_cleaned.csv')"
   ]
  },
  {
   "cell_type": "markdown",
   "id": "5eb98290",
   "metadata": {},
   "source": [
    "#### Now with no duplicates or NAN values or any sort of messy data, we can start our analysis."
   ]
  },
  {
   "cell_type": "code",
   "execution_count": 12,
   "id": "c6cd5823",
   "metadata": {},
   "outputs": [],
   "source": [
    "#importing the cleand data into a dataframe.\n",
    "df = pd.read_csv('train_cleaned.csv')"
   ]
  },
  {
   "cell_type": "markdown",
   "id": "9b02927f",
   "metadata": {},
   "source": [
    "#### Q1: Does the locality of the outlet affect sales?"
   ]
  },
  {
   "cell_type": "markdown",
   "id": "385478c4",
   "metadata": {},
   "source": [
    "To answer this we need to investigate two main aspects of the outlet, which are outlet size and outlet type."
   ]
  },
  {
   "cell_type": "code",
   "execution_count": 13,
   "id": "4301908d",
   "metadata": {},
   "outputs": [
    {
     "data": {
      "image/png": "[encoded data removed]",
      "text/plain": [
       "<Figure size 432x288 with 1 Axes>"
      ]
     },
     "metadata": {
      "needs_background": "light"
     },
     "output_type": "display_data"
    }
   ],
   "source": [
    "#the average sales based on outlet size.\n",
    "df.groupby(['outlet_size'])['item_outlet_sales'].mean().plot(kind='bar');\n",
    "plt.xlabel('outlet size');\n",
    "plt.ylabel('sales');\n",
    "plt.title('outlet size vs sales');"
   ]
  },
  {
   "cell_type": "code",
   "execution_count": 14,
   "id": "4bda6e2e",
   "metadata": {},
   "outputs": [
    {
     "data": {
      "image/png": "[encoded data removed]",
      "text/plain": [
       "<Figure size 432x288 with 1 Axes>"
      ]
     },
     "metadata": {
      "needs_background": "light"
     },
     "output_type": "display_data"
    }
   ],
   "source": [
    "#the average sales based on outlet type.\n",
    "df.groupby(['outlet_type'])['item_outlet_sales'].mean().plot(kind='bar');\n",
    "plt.xlabel('outlet type');\n",
    "plt.ylabel('sales');\n",
    "plt.title('outlet type vs sales');"
   ]
  },
  {
   "cell_type": "markdown",
   "id": "a1338715",
   "metadata": {},
   "source": [
    "Based on the above graphs and generally speaking, the bigger the outlet and more products available in it, the more chance it has of having more customers and sales, which makes sense, as it's more convenient to do all your purchases in one place."
   ]
  },
  {
   "cell_type": "markdown",
   "id": "30245414",
   "metadata": {},
   "source": [
    "#### Q2: Do different items have different sales?"
   ]
  },
  {
   "cell_type": "markdown",
   "id": "a23e9992",
   "metadata": {},
   "source": [
    "To answer this, we need to explore the attributes associated with the items."
   ]
  },
  {
   "cell_type": "code",
   "execution_count": 15,
   "id": "b039a909",
   "metadata": {},
   "outputs": [
    {
     "data": {
      "image/png": "[encoded data removed]",
      "text/plain": [
       "<Figure size 432x288 with 1 Axes>"
      ]
     },
     "metadata": {
      "needs_background": "light"
     },
     "output_type": "display_data"
    }
   ],
   "source": [
    "#Sales based on item type.\n",
    "df.groupby(['item_type'])['item_outlet_sales'].mean().plot(kind='bar');\n",
    "plt.xlabel('item type');\n",
    "plt.ylabel('sales');\n",
    "plt.title('item type vs sales');"
   ]
  },
  {
   "cell_type": "code",
   "execution_count": 16,
   "id": "70645ab3",
   "metadata": {},
   "outputs": [
    {
     "data": {
      "image/png": "[encoded data removed]",
      "text/plain": [
       "<Figure size 432x288 with 1 Axes>"
      ]
     },
     "metadata": {
      "needs_background": "light"
     },
     "output_type": "display_data"
    }
   ],
   "source": [
    "#Sales based on fat content.\n",
    "df.groupby(['item_fat_content'])['item_outlet_sales'].mean().plot(kind='bar');\n",
    "plt.xlabel('outlet type');\n",
    "plt.ylabel('sales');\n",
    "plt.title('outlet type vs sales');"
   ]
  },
  {
   "cell_type": "code",
   "execution_count": 17,
   "id": "83998be6",
   "metadata": {},
   "outputs": [
    {
     "data": {
      "image/png": "[encoded data removed]",
      "text/plain": [
       "<Figure size 432x288 with 1 Axes>"
      ]
     },
     "metadata": {
      "needs_background": "light"
     },
     "output_type": "display_data"
    }
   ],
   "source": [
    "#sales distribution based on the visibility.\n",
    "plt.scatter(df.item_visibility,df.item_outlet_sales);"
   ]
  },
  {
   "cell_type": "code",
   "execution_count": 18,
   "id": "e26d3e77",
   "metadata": {},
   "outputs": [
    {
     "data": {
      "image/png": "[encoded data removed]",
      "text/plain": [
       "<Figure size 432x288 with 1 Axes>"
      ]
     },
     "metadata": {
      "needs_background": "light"
     },
     "output_type": "display_data"
    }
   ],
   "source": [
    "#Sales distribution based on item weight.\n",
    "plt.scatter(df.item_weight,df.item_outlet_sales);"
   ]
  },
  {
   "cell_type": "markdown",
   "id": "e1f07a21",
   "metadata": {},
   "source": [
    "The graphs show that there's no one item type that has significantly higher sales than others, also fat content doesn't seem to affect sales too, weight doesn't play a much bigger role too, but the one thing to notice is that visibility has a negative correlation, with most sales coming from items with relatively lower visibility rates."
   ]
  },
  {
   "cell_type": "markdown",
   "id": "3cc27ce6",
   "metadata": {},
   "source": [
    "#### Q3: Does MRP affect sales?"
   ]
  },
  {
   "cell_type": "markdown",
   "id": "cd17bc4b",
   "metadata": {},
   "source": [
    "We need to investigate the item MRP column to be able to answer this question."
   ]
  },
  {
   "cell_type": "code",
   "execution_count": 19,
   "id": "8b0c847e",
   "metadata": {},
   "outputs": [
    {
     "data": {
      "image/png": "[encoded data removed]",
      "text/plain": [
       "<Figure size 432x288 with 1 Axes>"
      ]
     },
     "metadata": {
      "needs_background": "light"
     },
     "output_type": "display_data"
    }
   ],
   "source": [
    "#Plotting MRP vs sales.\n",
    "plt.scatter(df.item_mrp,df.item_outlet_sales);\n",
    "plt.xlabel('mrp');\n",
    "plt.ylabel('sales');\n",
    "plt.title('mrp vs sales');"
   ]
  },
  {
   "cell_type": "markdown",
   "id": "7ed88805",
   "metadata": {},
   "source": [
    "It's not surprising to have a strong positive correlation between MRP and sales, as high costing goods will -on average- have higher prices and profits than low costing goods."
   ]
  },
  {
   "cell_type": "code",
   "execution_count": null,
   "id": "b983a55c",
   "metadata": {},
   "outputs": [],
   "source": []
  }
 ],
 "metadata": {
  "kernelspec": {
   "display_name": "Python 3",
   "language": "python",
   "name": "python3"
  },
  "language_info": {
   "codemirror_mode": {
    "name": "ipython",
    "version": 3
   },
   "file_extension": ".py",
   "mimetype": "text/x-python",
   "name": "python",
   "nbconvert_exporter": "python",
   "pygments_lexer": "ipython3",
   "version": "3.8.8"
  }
 },
 "nbformat": 4,
 "nbformat_minor": 5
}
